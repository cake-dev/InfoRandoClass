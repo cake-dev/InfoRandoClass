{
    "cells": [
     {
      "cell_type": "markdown",
      "id": "d22eff00-f0ce-4b06-ae44-82ed0e996662",
      "metadata": {},
      "source": [
       "# General Graph Utilities"
      ]
     },
     {
      "cell_type": "code",
      "execution_count": 65,
      "id": "cee97ca7-50e1-44d7-b2c5-80711c33c2ab",
      "metadata": {},
      "outputs": [],
      "source": [
       "import random\n",
       "class Graph:\n",
       "    def __init__(self,V,labels=None):\n",
       "        self.V = V\n",
       "        if labels:\n",
       "            self.labels = labels\n",
       "        else:\n",
       "            self.labels = [[i] for i in range(self.V)]\n",
       "        self.edges = []#set()\n",
       "\n",
       "    def add_edge(self,e):\n",
       "        self.edges.append(tuple(sorted(e)))\n",
       "\n",
       "    @property\n",
       "    def E(self):\n",
       "        return len(self.edges)\n",
       "\n",
       "    def adj(self,v):\n",
       "        adj = []\n",
       "        for e in self.edges:\n",
       "            if v in e:\n",
       "                for w in e:\n",
       "                    if w != v:\n",
       "                        adj.append(w)\n",
       "        return adj\n",
       "\n",
       "def create_random_graph(V,p=0.5,seed=0):\n",
       "    g = Graph(V)\n",
       "    random.seed(seed)\n",
       "    \n",
       "    for i in range(V):\n",
       "        for j in range(i+1,V):\n",
       "            if random.random()<p:\n",
       "                g.add_edge([i,j])\n",
       "    return g\n",
       "    \n",
       "    \n",
       "g = Graph(4)\n",
       "g.add_edge([0,1])\n",
       "g.add_edge([0,2])\n",
       "g.add_edge([0,3])\n",
       "g.add_edge([1,2])\n",
       "g.add_edge([2,3])"
      ]
     },
     {
      "cell_type": "code",
      "execution_count": 66,
      "id": "b5fd3415-447d-46e5-b92c-743ed55d12a5",
      "metadata": {},
      "outputs": [
       {
        "data": {
         "text/plain": [
          "5"
         ]
        },
        "execution_count": 66,
        "metadata": {},
        "output_type": "execute_result"
       }
      ],
      "source": [
       "g.E"
      ]
     },
     {
      "cell_type": "markdown",
      "id": "74e20d6e-3234-4176-be6b-977d5ab69792",
      "metadata": {},
      "source": [
       "# Contraction operation"
      ]
     },
     {
      "cell_type": "code",
      "execution_count": 41,
      "id": "6ea7d660-4374-42b9-b7a7-80f5fec09136",
      "metadata": {},
      "outputs": [],
      "source": [
       "import copy\n",
       "def contract_edge(graph, edge_to_contract):\n",
       "    # Ensure the edge to contract is in the original format (u, v)\n",
       "    u, v = edge_to_contract\n",
       "\n",
       "    new_labels = copy.deepcopy(graph.labels)\n",
       "    new_labels[u].extend(new_labels[v])\n",
       "    new_labels.pop(v)\n",
       "\n",
       "    graph_new = Graph(graph.V - 1, labels = new_labels)\n",
       "\n",
       "    # Create new edges list after contraction\n",
       "    contracted_edges = []\n",
       "    \n",
       "    for edge in graph.edges:\n",
       "\n",
       "        # Unpack the edge\n",
       "        x, y = edge\n",
       "              \n",
       "        new_x = u if x == u or x == v else x\n",
       "        new_y = u if y == u or y == v else y\n",
       "        \n",
       "        # Skip self-loops\n",
       "        if new_x == new_y:\n",
       "            continue\n",
       "\n",
       "        if new_x > v:\n",
       "            new_x -= 1\n",
       "        if new_y > v:\n",
       "            new_y -= 1\n",
       "\n",
       "        graph_new.add_edge((new_x,new_y))  \n",
       "        \n",
       "    return graph_new"
      ]
     },
     {
      "cell_type": "markdown",
      "id": "b5479dfe-0942-44ab-926a-edad3de0d338",
      "metadata": {},
      "source": [
       "# Karger's Algorithm"
      ]
     },
     {
      "cell_type": "code",
      "execution_count": 87,
      "id": "fd8e263a-6362-40dd-b03f-bea53fe9dad7",
      "metadata": {},
      "outputs": [
       {
        "data": {
         "text/plain": [
          "(2, [[0, 1, 2], [3]])"
         ]
        },
        "execution_count": 87,
        "metadata": {},
        "output_type": "execute_result"
       }
      ],
      "source": [
       "import numpy as np\n",
       "def karger(graph):\n",
       "    g = copy.deepcopy(graph)\n",
       "    while g.V>2:\n",
       "        rand_edge_index = np.random.randint(g.E)\n",
       "        rand_edge = g.edges[rand_edge_index]\n",
       "        g = contract_edge(g,rand_edge)\n",
       "\n",
       "    return len(g.edges),g.labels\n",
       "\n",
       "karger(g)"
      ]
     },
     {
      "cell_type": "code",
      "execution_count": 88,
      "id": "79cc14b7-0e71-4211-90ad-27256bacf8c5",
      "metadata": {},
      "outputs": [
       {
        "data": {
         "text/plain": [
          "(array([989.,   0.,   0.,   0.,   0.,   0.,   0.,   0.,   0.,  11.]),\n",
          " array([2. , 2.1, 2.2, 2.3, 2.4, 2.5, 2.6, 2.7, 2.8, 2.9, 3. ]),\n",
          " <BarContainer object of 10 artists>)"
         ]
        },
        "execution_count": 88,
        "metadata": {},
        "output_type": "execute_result"
       },
       {
        "data": {
         "image/png": "[encoded data removed]",
         "text/plain": [
          "<Figure size 640x480 with 1 Axes>"
         ]
        },
        "metadata": {},
        "output_type": "display_data"
       }
      ],
      "source": [
       "import matplotlib.pyplot as plt\n",
       "def karger_trials(graph,c=None,n_trials=None):\n",
       "    if not n_trials:\n",
       "        n_trials = int(graph.V**c*np.log(graph.V))\n",
       "    min_cut = np.inf\n",
       "    min_set = None\n",
       "    for _ in range(n_trials):\n",
       "        cut,cut_set = karger(graph)\n",
       "        if cut<min_cut:\n",
       "            min_cut = cut\n",
       "            min_set = cut_set\n",
       "\n",
       "    return min_cut,min_set\n",
       "plt.hist([karger_trials(g,c=1,n_trials=None)[0] for i in range(1000)])"
      ]
     },
     {
      "cell_type": "code",
      "execution_count": 91,
      "id": "2ea0cf02-be70-49aa-b9c6-fd9ac381a08d",
      "metadata": {},
      "outputs": [
       {
        "data": {
         "text/plain": [
          "(array([  0.,   0.,   0.,   0.,   0., 100.,   0.,   0.,   0.,   0.]),\n",
          " array([3.5, 3.6, 3.7, 3.8, 3.9, 4. , 4.1, 4.2, 4.3, 4.4, 4.5]),\n",
          " <BarContainer object of 10 artists>)"
         ]
        },
        "execution_count": 91,
        "metadata": {},
        "output_type": "execute_result"
       },
       {
        "data": {
         "image/png": "[encoded data removed]",
         "text/plain": [
          "<Figure size 640x480 with 1 Axes>"
         ]
        },
        "metadata": {},
        "output_type": "display_data"
       }
      ],
      "source": [
       "random_graph = create_random_graph(20,p=0.5)  \n",
       "karger_trials(random_graph,c=1)\n",
       "plt.hist([karger_trials(random_graph,c=1,n_trials=None)[0] for i in range(100)])"
      ]
     },
     {
      "cell_type": "code",
      "execution_count": 92,
      "id": "0c07bedf-c075-4142-a2ed-469671c39f57",
      "metadata": {},
      "outputs": [
       {
        "data": {
         "text/plain": [
          "(1, [[0, 1, 2, 3], [4, 7, 5, 6]])"
         ]
        },
        "execution_count": 92,
        "metadata": {},
        "output_type": "execute_result"
       }
      ],
      "source": [
       "g = Graph(8)\n",
       "g.add_edge([0,1])\n",
       "g.add_edge([0,2])\n",
       "g.add_edge([0,3])\n",
       "g.add_edge([1,2])\n",
       "g.add_edge([2,3])\n",
       "g.add_edge([4,5])\n",
       "g.add_edge([4,6])\n",
       "g.add_edge([4,7])\n",
       "g.add_edge([5,6])\n",
       "g.add_edge([6,7])\n",
       "g.add_edge([3,4])\n",
       "karger_trials(g,2)"
      ]
     },
     {
      "cell_type": "markdown",
      "id": "de8ec15e-e283-4793-b019-3648fcc626b7",
      "metadata": {},
      "source": [
       "# Maxcut"
      ]
     },
     {
      "cell_type": "code",
      "execution_count": 93,
      "id": "3f8aec98-90ee-4e01-bb1f-85c333a4b905",
      "metadata": {},
      "outputs": [],
      "source": [
       "import itertools\n",
       "\n",
       "def count_cut(partition,g):\n",
       "    cut_size = 0\n",
       "    cut_set = []\n",
       "    for u,v in g.edges:\n",
       "        if partition[u] != partition[v] and partition[u]>=0 and partition[v]>=0:\n",
       "            cut_size += 1\n",
       "            cut_set.append((u,v))\n",
       "    return cut_size,cut_set"
      ]
     },
     {
      "cell_type": "code",
      "execution_count": 94,
      "id": "629bc4b4-fc75-45bb-89d6-2fafd32fc267",
      "metadata": {},
      "outputs": [
       {
        "data": {
         "text/plain": [
          "(61,\n",
          " [(0, 3),\n",
          "  (0, 6),\n",
          "  (0, 8),\n",
          "  (0, 9),\n",
          "  (0, 13),\n",
          "  (0, 16),\n",
          "  (1, 3),\n",
          "  (1, 8),\n",
          "  (1, 9),\n",
          "  (1, 13),\n",
          "  (1, 15),\n",
          "  (1, 18),\n",
          "  (2, 7),\n",
          "  (2, 10),\n",
          "  (2, 12),\n",
          "  (2, 14),\n",
          "  (2, 17),\n",
          "  (2, 19),\n",
          "  (3, 17),\n",
          "  (3, 19),\n",
          "  (4, 6),\n",
          "  (4, 9),\n",
          "  (4, 18),\n",
          "  (5, 6),\n",
          "  (5, 13),\n",
          "  (5, 18),\n",
          "  (6, 7),\n",
          "  (6, 10),\n",
          "  (6, 12),\n",
          "  (6, 17),\n",
          "  (7, 8),\n",
          "  (7, 13),\n",
          "  (7, 18),\n",
          "  (8, 10),\n",
          "  (8, 12),\n",
          "  (8, 14),\n",
          "  (8, 17),\n",
          "  (8, 19),\n",
          "  (9, 10),\n",
          "  (9, 11),\n",
          "  (9, 14),\n",
          "  (9, 17),\n",
          "  (9, 19),\n",
          "  (10, 15),\n",
          "  (10, 18),\n",
          "  (11, 13),\n",
          "  (11, 16),\n",
          "  (11, 18),\n",
          "  (12, 15),\n",
          "  (12, 16),\n",
          "  (12, 18),\n",
          "  (13, 14),\n",
          "  (13, 17),\n",
          "  (13, 19),\n",
          "  (14, 16),\n",
          "  (14, 18),\n",
          "  (15, 19),\n",
          "  (16, 17),\n",
          "  (16, 19),\n",
          "  (17, 18),\n",
          "  (18, 19)],\n",
          " (0, 0, 1, 1, 0, 0, 1, 0, 1, 1, 0, 0, 0, 1, 0, 1, 1, 0, 1, 0))"
         ]
        },
        "execution_count": 94,
        "metadata": {},
        "output_type": "execute_result"
       }
      ],
      "source": [
       "def exact_max_cut(g):\n",
       "    max_cut = 0\n",
       "    max_set = []\n",
       "    for partition in itertools.product([0, 1], repeat=g.V):\n",
       "        cut_size,cut_set = count_cut(partition,g)\n",
       "        if cut_size>max_cut:\n",
       "            max_cut = cut_size\n",
       "            max_set = cut_set\n",
       "            max_partition = partition\n",
       "    return max_cut,max_set,max_partition\n",
       "\n",
       "def exact_min_cut(g):\n",
       "    min_cut = np.inf\n",
       "    min_set = []\n",
       "    for partition in itertools.product([0, 1], repeat=g.V):\n",
       "        cut_size,cut_set = count_cut(partition,g)\n",
       "        if cut_size<min_cut and sum(partition)>0 and sum(partition)<len(partition):\n",
       "            min_cut = cut_size\n",
       "            min_set = cut_set\n",
       "            min_partition = partition\n",
       "    return min_cut,min_set,min_partition\n",
       "\n",
       "exact_max_cut(random_graph)"
      ]
     },
     {
      "cell_type": "markdown",
      "id": "7534111b-2019-49eb-9486-0d4f8671ea8f",
      "metadata": {},
      "source": [
       "# Simple Randomized Approximation"
      ]
     },
     {
      "cell_type": "code",
      "execution_count": 48,
      "id": "1a50f2c2-36db-4b6a-9727-3c7dd9e7267c",
      "metadata": {},
      "outputs": [],
      "source": [
       "def randomized_cut(g):\n",
       "    partition = np.random.randint(0,2,g.V)\n",
       "    cut_size,cut_set = count_cut(partition,g)\n",
       "    return cut_size,cut_set,partition"
      ]
     },
     {
      "cell_type": "code",
      "execution_count": 96,
      "id": "c68e8970-1f81-40f3-9ef9-6a1321fc2eb0",
      "metadata": {},
      "outputs": [
       {
        "data": {
         "text/plain": [
          "61"
         ]
        },
        "execution_count": 96,
        "metadata": {},
        "output_type": "execute_result"
       }
      ],
      "source": [
       "max([randomized_cut(random_graph)[0] for i in range(10000)])"
      ]
     },
     {
      "cell_type": "code",
      "execution_count": 95,
      "id": "efc9f52e-2561-425a-862f-4361b166b573",
      "metadata": {},
      "outputs": [
       {
        "data": {
         "text/plain": [
          "(array([1.000e+00, 1.000e+00, 0.000e+00, 1.000e+00, 0.000e+00, 2.000e+00,\n",
          "        1.400e+01, 8.000e+00, 4.400e+01, 4.000e+01, 5.900e+01, 1.010e+02,\n",
          "        2.110e+02, 3.500e+02, 5.830e+02, 1.083e+03, 2.519e+03, 1.914e+03,\n",
          "        1.620e+03, 9.180e+02, 3.770e+02, 1.170e+02, 2.900e+01, 4.000e+00,\n",
          "        4.000e+00]),\n",
          " array([ 8.  , 10.12, 12.24, 14.36, 16.48, 18.6 , 20.72, 22.84, 24.96,\n",
          "        27.08, 29.2 , 31.32, 33.44, 35.56, 37.68, 39.8 , 41.92, 44.04,\n",
          "        46.16, 48.28, 50.4 , 52.52, 54.64, 56.76, 58.88, 61.  ]),\n",
          " <BarContainer object of 25 artists>)"
         ]
        },
        "execution_count": 95,
        "metadata": {},
        "output_type": "execute_result"
       },
       {
        "data": {
         "image/png": "[encoded data removed]",
         "text/plain": [
          "<Figure size 640x480 with 1 Axes>"
         ]
        },
        "metadata": {},
        "output_type": "display_data"
       }
      ],
      "source": [
       "plt.hist([randomized_cut(random_graph)[0] for i in range(10000)],25)"
      ]
     },
     {
      "cell_type": "markdown",
      "id": "13864dad-7620-481b-9d1b-d57107f55c8f",
      "metadata": {},
      "source": [
       "# Conditional Cut"
      ]
     },
     {
      "cell_type": "code",
      "execution_count": 61,
      "id": "4c94f975-c8f7-4c49-8ea7-d571c345b0ed",
      "metadata": {},
      "outputs": [],
      "source": [
       "def conditional_cut(g):\n",
       "    partition = np.ones(g.V)*-1\n",
       "    E = g.E\n",
       "    for j in np.random.permutation(g.V):\n",
       "        w0 = 0\n",
       "        w1 = 0\n",
       "        for w in g.adj(j):\n",
       "            if partition[w] == 0:\n",
       "                w0 += 1\n",
       "            if partition[w] == 1:\n",
       "                w1 += 1\n",
       "        if w0>=w1:\n",
       "            partition[j] = 1\n",
       "        else:\n",
       "            partition[j] = 0\n",
       "    cut_size,cut_set = count_cut(partition,g)\n",
       "    return cut_size,cut_set,partition"
      ]
     },
     {
      "cell_type": "code",
      "execution_count": 63,
      "id": "cd28d31d-be83-4cc1-b43b-1ed7a330820d",
      "metadata": {},
      "outputs": [],
      "source": [
       "cut_sizes = []\n",
       "for _ in range(10000):   \n",
       "    cut_sizes.append(conditional_cut(random_graph)[0])"
      ]
     },
     {
      "cell_type": "code",
      "execution_count": 64,
      "id": "2854b016-b2a0-43d5-901c-0497723deedb",
      "metadata": {},
      "outputs": [
       {
        "data": {
         "text/plain": [
          "(array([  12.,   55.,  226.,  517.,  983., 2598., 1345.,  996., 1351.,\n",
          "        1917.]),\n",
          " array([49. , 50.2, 51.4, 52.6, 53.8, 55. , 56.2, 57.4, 58.6, 59.8, 61. ]),\n",
          " <BarContainer object of 10 artists>)"
         ]
        },
        "execution_count": 64,
        "metadata": {},
        "output_type": "execute_result"
       },
       {
        "data": {
         "image/png": "[encoded data removed]",
         "text/plain": [
          "<Figure size 640x480 with 1 Axes>"
         ]
        },
        "metadata": {},
        "output_type": "display_data"
       }
      ],
      "source": [
       "plt.hist(cut_sizes)"
      ]
     },
     {
      "cell_type": "code",
      "execution_count": null,
      "id": "e8cadfe3-608f-47e8-858d-1488e926956d",
      "metadata": {},
      "outputs": [],
      "source": []
     }
    ],
    "metadata": {
     "kernelspec": {
      "display_name": "Python 3 (ipykernel)",
      "language": "python",
      "name": "python3"
     },
     "language_info": {
      "codemirror_mode": {
       "name": "ipython",
       "version": 3
      },
      "file_extension": ".py",
      "mimetype": "text/x-python",
      "name": "python",
      "nbconvert_exporter": "python",
      "pygments_lexer": "ipython3",
      "version": "3.13.2"
     }
    },
    "nbformat": 4,
    "nbformat_minor": 5
   }