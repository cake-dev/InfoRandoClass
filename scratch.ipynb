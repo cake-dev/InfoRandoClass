{
 "cells": [
  {
   "cell_type": "code",
   "execution_count": 1,
   "metadata": {},
   "outputs": [],
   "source": [
    "import pandas as pd\n",
    "import numpy as np\n",
    "import math\n",
    "import matplotlib.pyplot as plt"
   ]
  },
  {
   "cell_type": "code",
   "execution_count": null,
   "metadata": {},
   "outputs": [],
   "source": [
    "def primeFactors(n):\n",
    "    factors = []\n",
    "    \n",
    "    # Handle 2's\n",
    "    while n % 2 == 0:\n",
    "        factors.append(2)\n",
    "        n = n // 2\n",
    "    \n",
    "    # Handle odd numbers\n",
    "    for i in range(3, int(math.sqrt(n)) + 1, 2):\n",
    "        while n % i == 0:\n",
    "            factors.append(i)\n",
    "            n = n // i\n",
    "    \n",
    "    # If n is still > 2, it's prime\n",
    "    if n > 2:\n",
    "        factors.append(n)\n",
    "    \n",
    "    return factors\n",
    "\n",
    "# Create all the data first\n",
    "data = {i: [primeFactors(i)] for i in range(1, 10001)}\n",
    "\n",
    "# Create DataFrame all at once\n",
    "df = pd.DataFrame(data, index=[0])\n",
    "\n",
    "# Example usage:\n",
    "print(\"First 10 columns:\")\n",
    "print(df.iloc[:, :10])"
   ]
  },
  {
   "cell_type": "code",
   "execution_count": null,
   "metadata": {},
   "outputs": [],
   "source": [
    "def count_prime_factors(max_num=1000):\n",
    "    def get_prime_factors(n):\n",
    "        factors = []\n",
    "        \n",
    "        # Handle 2's\n",
    "        while n % 2 == 0:\n",
    "            factors.append(2)\n",
    "            n = n // 2\n",
    "        \n",
    "        # Handle odd numbers\n",
    "        for i in range(3, int(math.sqrt(n)) + 1, 2):\n",
    "            while n % i == 0:\n",
    "                factors.append(i)\n",
    "                n = n // i\n",
    "        \n",
    "        # If n is still > 2, it's prime\n",
    "        if n > 2:\n",
    "            factors.append(n)\n",
    "            \n",
    "        return factors\n",
    "    \n",
    "    # Create both dictionaries\n",
    "    total_factors = {}\n",
    "    unique_factors = {}\n",
    "    \n",
    "    for i in range(1, max_num + 1):\n",
    "        factors = get_prime_factors(i)\n",
    "        total_factors[i] = len(factors)\n",
    "        unique_factors[i] = len(set(factors))\n",
    "    \n",
    "    return total_factors, unique_factors\n",
    "\n",
    "# Get both dictionaries\n",
    "total_count, unique_count = count_prime_factors(max_num=1000000)"
   ]
  },
  {
   "cell_type": "code",
   "execution_count": null,
   "metadata": {},
   "outputs": [],
   "source": [
    "# plot the number of total factors and unique factors for each number\n",
    "plt.scatter(total_count.keys(), total_count.values(), label=\"Total factors\")\n",
    "plt.scatter(unique_count.keys(), unique_count.values(), label=\"Unique factors\")\n",
    "plt.xscale(\"log\")\n",
    "plt.xlabel(\"Number\")\n",
    "plt.ylabel(\"Count\")\n",
    "plt.legend()\n",
    "plt.show()"
   ]
  },
  {
   "cell_type": "code",
   "execution_count": null,
   "metadata": {},
   "outputs": [],
   "source": [
    "# generate a binary string of length 3*n where each position is determnined by a random number (0 or 1)\n",
    "def generate_binary_string(n):\n",
    "    return \"\".join([str(np.random.randint(0, 2)) for _ in range(3 * n)])\n",
    "\n",
    "# count the number of 1's in the binary string\n",
    "def count_ones(s):\n",
    "    return s.count(\"1\")\n",
    "\n",
    "count_ones(generate_binary_string(100))"
   ]
  },
  {
   "cell_type": "code",
   "execution_count": null,
   "metadata": {},
   "outputs": [],
   "source": [
    "def chunk_binary_string(s):\n",
    "    return [int(s[i:i+3], 2) for i in range(0, len(s), 3)]\n",
    "\n",
    "values = chunk_binary_string(generate_binary_string(100))\n",
    "np.mean(values)"
   ]
  },
  {
   "cell_type": "markdown",
   "metadata": {},
   "source": [
    "#### Monkeys"
   ]
  },
  {
   "cell_type": "code",
   "execution_count": 2,
   "metadata": {},
   "outputs": [],
   "source": [
    "# how many keystrokes until a monkey types the word 'cat' on a 26-letter keyboard\n",
    "import numpy as np\n",
    "\n",
    "def monkey_typing():\n",
    "    keyboard = \"abcdefghijklmnopqrstuvwxyz\"\n",
    "    target = \"cat\"\n",
    "    n = 0\n",
    "    while True:\n",
    "        n += 1\n",
    "        s = \"\".join([np.random.choice(list(keyboard)) for _ in range(len(target))])\n",
    "        if s == target:\n",
    "            return n\n",
    "\n",
    "# repeat the experiment 1000 and take the average\n",
    "# np.mean([monkey_typing() for _ in range(1000)])"
   ]
  },
  {
   "cell_type": "code",
   "execution_count": null,
   "metadata": {},
   "outputs": [],
   "source": [
    "# how many keystrokes until a monkey types the word 'cat' on a 26-letter keyboard\n",
    "# use geometric distribution wth p = 1/26^3\n",
    "np.mean([np.random.geometric(p=1/26**3) for _ in range(1000)])"
   ]
  },
  {
   "cell_type": "code",
   "execution_count": null,
   "metadata": {},
   "outputs": [],
   "source": [
    "import numpy as np\n",
    "import matplotlib.pyplot as plt\n",
    "# generate a matrix of size n x n with with 0s and 1s randomly\n",
    "def generate_matrix(n):\n",
    "    return np.random.randint(0, 2, (n, n))\n",
    "\n",
    "# gets the rank of the matrix\n",
    "def get_rank(matrix):\n",
    "    return np.linalg.matrix_rank(matrix)\n",
    "\n",
    "# get the rank of M random 10x10 matrices\n",
    "m = 10000\n",
    "ranks = [get_rank(generate_matrix(10)) for _ in range(m)]\n",
    "plt.hist(ranks, bins=range(11), density=True)\n",
    "plt.title(\"Rank of 10x10 random 0/1 matrices\")\n",
    "plt.xlabel(\"Rank\")\n",
    "plt.ylabel(\"Count\")\n",
    "plt.show()"
   ]
  }
 ],
 "metadata": {
  "kernelspec": {
   "display_name": "aispace",
   "language": "python",
   "name": "python3"
  },
  "language_info": {
   "codemirror_mode": {
    "name": "ipython",
    "version": 3
   },
   "file_extension": ".py",
   "mimetype": "text/x-python",
   "name": "python",
   "nbconvert_exporter": "python",
   "pygments_lexer": "ipython3",
   "version": "3.9.20"
  }
 },
 "nbformat": 4,
 "nbformat_minor": 2
}
