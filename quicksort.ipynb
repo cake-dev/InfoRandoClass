{
 "cells": [
  {
   "cell_type": "markdown",
   "id": "94c13849-4875-4972-a057-29a7d45a62d6",
   "metadata": {},
   "source": [
    "# Quicksort\n",
    "Below is a reference implementation of quicksort that counts the number of compares that it performs as it runs."
   ]
  },
  {
   "cell_type": "code",
   "execution_count": 1,
   "id": "5b974225-7fa8-4eaa-8c11-f5f801c48e83",
   "metadata": {},
   "outputs": [],
   "source": [
    "import random\n",
    "import numpy as np\n",
    "\n",
    "def randomized_quicksort(arr, low, high, comparisons):\n",
    "    if low < high:\n",
    "        pi, comp = randomized_partition(arr, low, high, comparisons)\n",
    "        comparisons[0] += comp\n",
    "        randomized_quicksort(arr, low, pi - 1, comparisons)\n",
    "        randomized_quicksort(arr, pi + 1, high, comparisons)\n",
    "    return comparisons[0]\n",
    "\n",
    "def randomized_partition(arr, low, high, comparisons):\n",
    "    # Choose a random pivot index\n",
    "    pivot_index = random.randint(low, high)\n",
    "    # Swap the random pivot with the last element\n",
    "    arr[high], arr[pivot_index] = arr[pivot_index], arr[high]\n",
    "\n",
    "    # Now proceed with the standard partition logic\n",
    "    i = low - 1\n",
    "    pivot = arr[high]\n",
    "    comp = 0\n",
    "    for j in range(low, high):\n",
    "        comp += 1  # Comparison with pivot\n",
    "        if arr[j] <= pivot:\n",
    "            i += 1\n",
    "            arr[i], arr[j] = arr[j], arr[i]\n",
    "    arr[i + 1], arr[high] = arr[high], arr[i + 1]\n",
    "    return i + 1, comp\n",
    "\n",
    "def sort_and_count(arr):\n",
    "    comparisons = [0]\n",
    "    count = randomized_quicksort(arr, 0, len(arr) - 1, comparisons)\n",
    "    return arr, count"
   ]
  },
  {
   "cell_type": "markdown",
   "id": "88aa5dea-787d-4546-a086-003ba4d3727b",
   "metadata": {},
   "source": [
    "We are interested in performing a large number of quicksort trials - and recording the number of compares performed in each - so as to understand the distribution of this random variable"
   ]
  },
  {
   "cell_type": "code",
   "execution_count": 2,
   "id": "44021ca7-9c35-4f4f-899f-984249aea633",
   "metadata": {},
   "outputs": [],
   "source": [
    "n = 10000\n",
    "random_array = [random.randint(0, n) for _ in range(n)]  # Larger random array\n",
    "counts = []\n",
    "n_trials = 1000\n",
    "for i in range(n_trials):\n",
    "    _, n_comparisons = sort_and_count(random_array)\n",
    "    counts.append(n_comparisons)"
   ]
  },
  {
   "cell_type": "markdown",
   "id": "348235d1-05c8-4b8b-a051-09791f135197",
   "metadata": {},
   "source": [
    "As discussed in our in-class analysis, the expected runtime of quicksort is \n",
    "$$ E[T] = (2n + 2) H_n - 4n, $$\n",
    "where $H_n$ is the harmonic number\n",
    "$$\n",
    "H_n = \\sum_{k=1}^n \\frac{1}{k}.\n",
    "$$\n"
   ]
  },
  {
   "cell_type": "code",
   "execution_count": 3,
   "id": "1857b6d8-6cf2-4206-855c-4f47bc8cee26",
   "metadata": {},
   "outputs": [],
   "source": [
    "def H(n, m=1):\n",
    "    \"\"\"\n",
    "    Calculates the nth generalized harmonic number of order m.\n",
    "\n",
    "    Args:\n",
    "        n: The number of terms to sum (positive integer).\n",
    "        m: The order of the harmonic number (integer, can be positive, negative, or zero).\n",
    "\n",
    "    Returns:\n",
    "        The nth generalized harmonic number of order m.\n",
    "    \"\"\"\n",
    "    if not isinstance(n, int) or n <= 0:\n",
    "        raise ValueError(\"n must be a positive integer\")\n",
    "    \n",
    "    total = 0\n",
    "    for k in range(1, n + 1):\n",
    "        total += 1 / (k ** m)\n",
    "    return total"
   ]
  },
  {
   "cell_type": "markdown",
   "id": "dbd0da0e-7e1f-4d79-a633-742bce4c6d1d",
   "metadata": {},
   "source": [
    "Comparing the theoretical expectation and measured average we find very good agreement, as shown below alongside the histogram of observed runtimes."
   ]
  },
  {
   "cell_type": "code",
   "execution_count": 6,
   "id": "9690df49-1d17-47fc-a8c4-0a83552ac3b5",
   "metadata": {},
   "outputs": [
    {
     "data": {
      "text/plain": [
       "<matplotlib.lines.Line2D at 0x7fb501fa28e0>"
      ]
     },
     "execution_count": 6,
     "metadata": {},
     "output_type": "execute_result"
    },
    {
     "data": {
      "image/png": "[encoded data removed]",
      "text/plain": [
       "<Figure size 640x480 with 1 Axes>"
      ]
     },
     "metadata": {},
     "output_type": "display_data"
    }
   ],
   "source": [
    "import matplotlib.pyplot as plt\n",
    "plt.hist(counts,density=True)\n",
    "empirical_expectation = np.mean(counts)\n",
    "k = np.linspace(1,n,n)\n",
    "theoretical_expectation = (2*n + 2)*H(n) - 4*n\n",
    "\n",
    "plt.axvline(empirical_expectation,color='red',label='Emperical Mean')\n",
    "plt.axvline(theoretical_expectation,color='black',label='Theoretical Expectation')"
   ]
  },
  {
   "cell_type": "markdown",
   "id": "a277ab9a-fa2f-44eb-81b0-d356377fcc86",
   "metadata": {},
   "source": [
    "We are also interested in characterizing bounds on the tail distribution of runtime - i.e. the probability that the runtime exceeds some particular threshold.  For Markov's bound, we have that\n",
    "$$\n",
    "P(T \\ge a E[T]) \\le \\frac{1}{a}.\n",
    "$$"
   ]
  },
  {
   "cell_type": "code",
   "execution_count": 7,
   "id": "abbb78b3-d19d-4812-bed2-5082d656ad9a",
   "metadata": {},
   "outputs": [],
   "source": [
    "a = np.linspace(1,2,101)\n",
    "T_markov = a*theoretical_expectation\n",
    "markov_bound = 1./a"
   ]
  },
  {
   "cell_type": "markdown",
   "id": "110e00c6-85ea-4887-b94c-22a955b99f08",
   "metadata": {},
   "source": [
    "For Chebyshev's bound, we have that\n",
    "$$\n",
    "P(T \\ge E[T] + a \\mathrm{Var}[T]^{\\frac{1}{2}}) \\le \\frac{1}{2a^2},\n",
    "$$\n",
    "where the variance of the runtime is \n",
    "$$\n",
    "\\mathrm{Var}[T] = 7n^2 - 4(n+1)^2H_n^{(2)} - 2(n+1)H_n + 13n,\n",
    "$$\n",
    "where $H_n^{(j)}$ is the $j-$th order harmonic number\n",
    "$$\n",
    "H_n^{(j)} = \\sum_{k=1}^n \\frac{1}{k^j}.\n",
    "$$\n",
    " "
   ]
  },
  {
   "cell_type": "code",
   "execution_count": 8,
   "id": "248cb0a0-64f0-4268-92f0-b017bffeadb3",
   "metadata": {},
   "outputs": [],
   "source": [
    "variance = 7*n**2 - 4*(n+1)**2*H(n,m=2) - 2*(n+1)*H(n) + 13*n\n",
    "std_dev = variance**0.5\n",
    "a = np.linspace(1,6,100)\n",
    "T_chebyshev = theoretical_expectation + a*std_dev\n",
    "chebyshev_bound = 1./(2*a**2)"
   ]
  },
  {
   "cell_type": "markdown",
   "id": "251d8bc9-72ff-4c89-8ea0-0fa2086e9cfd",
   "metadata": {},
   "source": [
    "We can plot the resulting bounds, alongside the observed exceedance probability below."
   ]
  },
  {
   "cell_type": "code",
   "execution_count": 9,
   "id": "e5979f2d-f120-4b6c-bc96-9ae9f686c6f1",
   "metadata": {},
   "outputs": [
    {
     "data": {
      "text/plain": [
       "<matplotlib.legend.Legend at 0x7fb501ed7520>"
      ]
     },
     "execution_count": 9,
     "metadata": {},
     "output_type": "execute_result"
    },
    {
     "data": {
      "image/png": "[encoded data removed]",
      "text/plain": [
       "<Figure size 640x480 with 1 Axes>"
      ]
     },
     "metadata": {},
     "output_type": "display_data"
    }
   ],
   "source": [
    "c,bins = np.histogram(counts,100)\n",
    "exceedance_probability = 1 - np.cumsum(c)/c.sum()\n",
    "plt.plot(bins[:-1],exceedance_probability,'r-',label='Exceedance Probability')\n",
    "\n",
    "plt.plot(T_markov,markov_bound,'b-',label='Markov Bound')\n",
    "\n",
    "plt.plot(T_chebyshev,chebyshev_bound,'k--',label='Chebyshev Bounds')\n",
    "\n",
    "plt.legend()"
   ]
  }
 ],
 "metadata": {
  "kernelspec": {
   "display_name": "aispace",
   "language": "python",
   "name": "python3"
  },
  "language_info": {
   "codemirror_mode": {
    "name": "ipython",
    "version": 3
   },
   "file_extension": ".py",
   "mimetype": "text/x-python",
   "name": "python",
   "nbconvert_exporter": "python",
   "pygments_lexer": "ipython3",
   "version": "3.9.20"
  }
 },
 "nbformat": 4,
 "nbformat_minor": 5
}
