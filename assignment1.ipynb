{
 "cells": [
  {
   "cell_type": "markdown",
   "metadata": {},
   "source": [
    "**Exercise 1.1**: \n",
    "\n",
    "We flip a fair coin ten times. Find the probability of the following events.\n",
    "\n",
    "(a) The number of heads and the number of tails are equal.\n",
    "\n",
    "(b) There are more heads than tails.\n",
    "\n",
    "(c) The ith flip and the (11 − i)th flip are the same for i = 1, . . . , 5.\n",
    "\n",
    "(d) We flip at least four consecutive heads."
   ]
  },
  {
   "cell_type": "markdown",
   "metadata": {},
   "source": [
    "**SOLUTIONS 1.1**:\n",
    "\n",
    "(a) The number of heads and the number of tails are equal.\n",
    "\n",
    "Let $X$ be the number of heads. Then $X$ is a binomial random variable with $n = 10$ and $p = 0.5$. The probability that the number of heads and the number of tails are equal is\n",
    "\n",
    "$$P(X = 5) = \\binom{10}{5} (0.5)^5 (0.5)^5 = \\binom{10}{5} (0.5)^{10} = \\frac{252}{1024} = 0.2461.$$"
   ]
  },
  {
   "cell_type": "code",
   "execution_count": 1,
   "metadata": {},
   "outputs": [
    {
     "data": {
      "text/plain": [
       "0.24609375000000003"
      ]
     },
     "execution_count": 1,
     "metadata": {},
     "output_type": "execute_result"
    }
   ],
   "source": [
    "from scipy.stats import binom\n",
    "import numpy as np\n",
    "\n",
    "n = 10\n",
    "p = 0.5\n",
    "binom.pmf(5, n, p)"
   ]
  },
  {
   "cell_type": "markdown",
   "metadata": {},
   "source": [
    "(b) There are more heads than tails.\n",
    "\n",
    "The probability that there are more heads than tails is\n",
    "\n",
    "$$P(X > 5) = P(X = 6) + P(X = 7) + P(X = 8) + P(X = 9) + P(X = 10) = \\sum_{i=6}^{10} \\binom{10}{i} (0.5)^{10} = 0.3769.$$"
   ]
  },
  {
   "cell_type": "code",
   "execution_count": 2,
   "metadata": {},
   "outputs": [
    {
     "data": {
      "text/plain": [
       "0.3769531249999999"
      ]
     },
     "execution_count": 2,
     "metadata": {},
     "output_type": "execute_result"
    }
   ],
   "source": [
    "p = 0\n",
    "for i in range(6, 11):\n",
    "    p += binom.pmf(i, n, 0.5)\n",
    "p"
   ]
  },
  {
   "cell_type": "markdown",
   "metadata": {},
   "source": [
    "---"
   ]
  },
  {
   "cell_type": "markdown",
   "metadata": {},
   "source": [
    "**Exercise 1.2**: \n",
    "\n",
    "We roll two standard six-sided dice. Find the probability of the following\n",
    "events, assuming that the outcomes of the rolls are independent.\n",
    "\n",
    "(a) The two dice show the same number.\n",
    "\n",
    "(b) The number that appears on the first die is larger than the number on the second.\n",
    "\n",
    "(c) The sum of the dice is even.\n",
    "\n",
    "(d) The product of the dice is a perfect square.\n",
    "\n",
    "**SOLUTIONS 1.2**:\n",
    "\n",
    "(a) The two dice show the same number.\n",
    "\n",
    "There are 6 ways in which the two dice can show the same number, (1, 1), (2, 2), (3, 3), (4, 4), (5, 5), and (6, 6). This makes up 6 out of a total of $6 \\times 6 = 36$ possible outcomes, so the probability is $6/36 = 1/6$.\n",
    "\n",
    "(b) The number that appears on the first die is larger than the number on the second.\n",
    "\n",
    "There are 15 ways in which the number on the first die is larger than the number on the second, (2, 1), (3, 1), (3, 2), (4, 1), (4, 2), (4, 3), (5, 1), (5, 2), (5, 3), (5, 4), (6, 1), (6, 2), (6, 3), (6, 4), and (6, 5). This makes up 15 out of a total of 36 possible outcomes, so the probability is $15/36 = 5/12$.\n",
    "\n",
    "(c) The sum of the dice is even.\n",
    "\n",
    "The sum of the dice is even if both dice show an even number or both dice show an odd number. There are 3 ways in which both dice show an even number, (2, 2), (4, 4), and (6, 6), and 3 ways in which both dice show an odd number, (1, 1), (3, 3), and (5, 5). This makes up 6 out of a total of 36 possible outcomes, so the probability is $6/36 = 1/6$.\n",
    "\n",
    "(d) The product of the dice is a perfect square.\n",
    "\n",
    "This is the same as the event that the two dice show the same number with (1,1) removed, so the probability is $5/36$."
   ]
  },
  {
   "cell_type": "markdown",
   "metadata": {},
   "source": [
    "---"
   ]
  },
  {
   "cell_type": "markdown",
   "metadata": {},
   "source": [
    "**Exercise 1.3**: \n",
    "\n",
    "We shuffle a standard deck of cards, obtaining a permutation that\n",
    "is uniform over all 52! possible permutations. Find the probability of the following\n",
    "events.\n",
    "\n",
    "(a) The first two cards include at least one ace.\n",
    "\n",
    "(b) The first five cards include at least one ace.\n",
    "\n",
    "(c) The first two cards are a pair of the same rank.\n",
    "\n",
    "(d) The first five cards are all diamonds.\n",
    "\n",
    "(e) The first five cards form a full house (three of one rank and two of another rank).\n",
    "\n",
    "**SOLUTIONS 1.3**:\n",
    "\n",
    "(a) The first two cards include at least one ace.\n",
    "\n",
    "We calculate the complement event of neither of the first 2 cards being an ace.  There are 48 cards that aren't aces.  $P$(first card not an ace) = $\\frac{48}{52}$.  P(second card not an ace) = 47/51.  P(neither card an ace) = 48/52 * 47/51 = 188/221.  The probability of at least one ace is 1 - 188/221 = 33/221.\n",
    "\n",
    "(b) The first five cards include at least one ace.\n",
    "\n",
    "Same method as before, complement event of all five cards not being aces.  P(all five cards not aces) = 48/52 * 47/51 * 46/50 * 45/49 * 44/48 = $\\frac{35673}{54145}$ = 0.6588.  1 - 0.6588 = 0.3412.\n",
    "\n",
    "(c) The first two cards are a pair of the same rank.\n",
    "\n",
    "There are 4 cards of each value in the deck.  After drawing one, only $frac{3}{51}$ will be the same value. Therefore, the probability is $\\frac{3}{51}$ = $\\frac{1}{17}$.\n",
    "\n",
    "(d) The first five cards are all diamonds.\n",
    "\n",
    "There are 13 diamonds in the deck.  The probability of drawing a diamond is $\\frac{13}{52}$.  The probability of drawing 5 diamonds is $\\frac{13}{52} * \\frac{12}{51} * \\frac{11}{50} * \\frac{10}{49} * \\frac{9}{48}$ = $\\frac{33}{66640}$ or 0.000495.\n",
    "\n",
    "(e) The first five cards form a full house (three of one rank and two of another rank).\n",
    "\n",
    "There are 13 options of rank for the first 3 cards.  Choosing 3 of the 4 cards of that rank is $\\binom{4}{3} = 4$.  This leaves us with 12 rank choices for the next 2 cards.  Choosing 2 of the 4 cards of that rank is $\\binom{4}{2} = 6$.  The number of ways to get a full house then in the first 5 cards is 13 * 4 * 12 * 6 = 3744 and to choose any 5 cards is $\\binom{52}{5} = 2,598,960$.  The probability is then $\\frac{3744}{2598960} = \\frac{6}{4165}$ = 0.00144."
   ]
  },
  {
   "cell_type": "markdown",
   "metadata": {},
   "source": [
    "---"
   ]
  },
  {
   "cell_type": "markdown",
   "metadata": {},
   "source": [
    "**Exercise 1.11**: \n",
    "\n",
    "I am trying to send you a single bit, either a 0 or a 1. When I transmit\n",
    "the bit, it goes through a series of n relays before it arrives to you. Each relay flips the\n",
    "bit independently with probability p.\n",
    "\n",
    "(a) Argue that the probability you receive the correct bit is:\n",
    "\n",
    "$$ \\sum_{k=0}^{[n/2]} \\binom{n}{2k} p^{2k} (1-p)^{n-2k} $$\n",
    "\n",
    "(b) We consider an alternative way to calculate this probability. Let us say the relay\n",
    "has $bias$ $q$ if the probability it flips the bit is $(1 − q)/2$. The bias $q$ is therefore a\n",
    "real number in the range [−1, 1]. Prove that sending a bit through two relays with\n",
    "bias $q_1$ and $q_2$ is equivalent to sending a bit through a single relay with bias $q_1q_2$ .\n",
    "\n",
    "(c) Prove that the probability you receive the correct bit when it passes through n relays\n",
    "as described before (a) is\n",
    "\n",
    "$$ \\frac{1 + (1-2p)^n}{2} $$\n",
    "\n",
    "**SOLUTIONS 1.11**:\n",
    "\n",
    "(a) The bit is flipped independently with probability p.  The number of times the bit flips is binomially distributed with parameters n and p.  The probability of receiving the correct bit is the probability of receiving 0 flips, 2 flips, 4 flips, etc.  This is given by the formula above.\n",
    "\n",
    "(b) With bias $q$ definined the probabilty of flipping the bit being $\\frac{1-q}{2}$, we look at two relays with bias $q_1$ and $q_2$. This gives is $\\frac{1-q_1}{2}$ and $\\frac{1-q_2}{2}$.  Taking these events, we can calculate the probability that the bit is correct after both relays as the sum of the probs that both relays flip or do not flip:\n",
    "\n",
    "$$ \\frac{1-q_1}{2} * \\frac{1-q_2}{2} + \\frac{q_1}{2} * \\frac{q_2}{2} = \\frac{(1+q_1)(1+q_2) + (1-q_1)(1-q_2)}{4} = \\frac{1 + q_1q_2}{2} $$\n",
    "\n",
    "This is equivalent to sending the bit through a single relay with bias $q_1q_2$.\n",
    "\n",
    "(c)  With each relay having bias $q = 1 - 2p$, after $n$ relays, the bias is $q=(1-2p)^n$.  We know the probability of receiving the correct bit is $\\frac{1 + q}{2}$.  Substituting in the value of $q$ gives us the desired result of $\\frac{1 + (1-2p)^n}{2}$."
   ]
  },
  {
   "cell_type": "markdown",
   "metadata": {},
   "source": [
    "---"
   ]
  },
  {
   "cell_type": "markdown",
   "metadata": {},
   "source": [
    "**Exercise 1.14**: \n",
    "\n",
    "I am playing in a racquetball tournament, and I am up against a player\n",
    "I have watched but never played before. I consider three possibilities for my prior\n",
    "model: we are equally talented, and each of us is equally likely to win each game;\n",
    "I am slightly better, and therefore I win each game independently with probability 0.6;\n",
    "or he is slightly better, and thus he wins each game independently with probability 0.6.\n",
    "Before we play, I think that each of these three possibilities is equally likely.\n",
    "\n",
    "In our match we play until one player wins three games. I win the second game, but\n",
    "he wins the first, third, and fourth. After this match, in my posterior model, with what\n",
    "probability should I believe that my opponent is slightly better than I am?\n",
    "\n",
    "**SOLUTIONS 1.14**:\n",
    "\n",
    "We define the priors as $R_1$ (equal) = 0.5, $R_2$ (slightly better) = 0.6, $R_3$ (slightly worse) = 0.4. If they are all initally equally likely then the probability of each is $\\frac{1}{3}$.\n",
    "\n",
    "Our observed results are (L, W, L, L).  We call this sequence M for matches.  We calculate the probability of this sequence given each of the three priors.\n",
    "\n",
    "$P(M|R_1) = (0.5)^4 = 0.0625$\n",
    "\n",
    "$P(M|R_2) = 0.4 * 0.6 * 0.4 * 0.4 = 0.0384$\n",
    "\n",
    "$P(M|R_3) = 0.6 * 0.4 * 0.6 * 0.6 = 0.0864$\n",
    "\n",
    "We can use Bayes' theorem to calculate the posterior probabilities:\n",
    "\n",
    "Bayes' theorem: $P(R_i|M) = \\frac{P(M|R_i)P(R_i)}{P(M)}$\n",
    "\n",
    "$P(D) = P(M|R_1)P(R_1) + P(M|R_2)P(R_2) + P(M|R_3)P(R_3) = 0.0625 * \\frac{1}{3} + 0.0384 * \\frac{1}{3} + 0.0864 * \\frac{1}{3} = 0.0643$\n",
    "\n",
    "To know the probability that the opponent is slightly better, we calculate the posterior probability of $R_3$:\n",
    "\n",
    "$P(R_3|M) = \\frac{0.0864 * \\frac{1}{3}}{0.0643} = 0.448$"
   ]
  },
  {
   "cell_type": "markdown",
   "metadata": {},
   "source": [
    "---"
   ]
  },
  {
   "cell_type": "markdown",
   "metadata": {},
   "source": [
    "**Exercise 1.19**:\n",
    "\n",
    "Give examples of events where $ Pr(A | B) < Pr(A), Pr(A | B) = Pr(A) $,\n",
    "and $ Pr(A | B) > Pr(A) $.\n",
    "\n",
    "**SOLUTIONS 1.19**:\n",
    "\n",
    "$ Pr(A | B) < Pr(A) $:  Let A be the event that it will snow today and B be the event that it is warm today.  The probability of snow is lower when it is warm, so $ Pr(A | B) < Pr(A) $.\n",
    "\n",
    "$ Pr(A | B) = Pr(A) $:  Let A be the event that a coin flip is tails, let B be another event that the coin flip is heads.  The probability of a second flip is the same regardless of the outcome of the first flip, so $ Pr(A | B) = Pr(A) $.\n",
    "\n",
    "$ Pr(A | B) > Pr(A) $:  Let A be the event that I fail a test, and B be the event that I did not study for the test.  The probability of failing the test is higher if I did not study, so $ Pr(A | B) > Pr(A) $."
   ]
  },
  {
   "cell_type": "markdown",
   "metadata": {},
   "source": [
    "---"
   ]
  },
  {
   "cell_type": "markdown",
   "metadata": {},
   "source": [
    "**Exercise 2.2**: A monkey types on a 26-letter keyboard that has lowercase letters only.\n",
    "Each letter is chosen independently and uniformly at random from the alphabet. If the\n",
    "monkey types 1,000,000 letters, what is the expected number of times the sequence\n",
    "“proof” appears?\n",
    "\n",
    "**SOLUTIONS 2.2**:\n",
    "\n",
    "The probability of the sequence \"proof\" appearing is $1/26^5$. The number of starting positions for proof is 1000000 - 5 + 1 = 999996.  The expected number of times the sequence appears is then $999996 * 1/26^5$ = 0.0842."
   ]
  },
  {
   "cell_type": "markdown",
   "metadata": {},
   "source": [
    "---"
   ]
  },
  {
   "cell_type": "markdown",
   "metadata": {},
   "source": [
    "**Exercise 2.8**: \n",
    "\n",
    "(a) Alice and Bob decide to have children until either they have their first\n",
    "girl or they have $k ≥ 1$ children. Assume that each child is a boy or girl independently\n",
    "with probability 1/2 and that there are no multiple births. What is the expected number\n",
    "of female children that they have? What is the expected number of male children that\n",
    "they have?\n",
    "\n",
    "(b) Suppose Alice and Bob simply decide to keep having children until they have\n",
    "their first girl. Assuming that this is possible, what is the expected number of boys that\n",
    "they have?\n",
    "\n",
    "**SOLUTIONS 2.8**:\n",
    "\n",
    "(a) This probabilty follows a geometric distribution.  We define F as the number of female children and M as the number of male children.\n",
    "\n",
    "There are 2 possibilites: 1) they have a girl first in some position j<=k and 2) they get k boys and no girls.\n",
    "\n",
    "The probability of case 1):"
   ]
  },
  {
   "cell_type": "markdown",
   "metadata": {},
   "source": [
    "---"
   ]
  },
  {
   "cell_type": "markdown",
   "metadata": {},
   "source": [
    "**Exercise 2.22**:\n",
    "\n",
    "Let $a_1, a_2, . . . , a_n$ be a list of n distinct numbers. We say that $a_i$ and\n",
    "$a_j$ are inverted if $i < j$ but $a_i > a_j$. The Bubblesort sorting algorithm swaps pairwise\n",
    "adjacent inverted numbers in the list until there are no more inversions, so the list is\n",
    "in sorted order. Suppose that the input to Bubblesort is a random permutation, equally\n",
    "likely to be any of the $n!$ permutations of n distinct numbers. Determine the expected\n",
    "number of inversions that need to be corrected by Bubblesort."
   ]
  },
  {
   "cell_type": "markdown",
   "metadata": {},
   "source": [
    "---"
   ]
  },
  {
   "cell_type": "markdown",
   "metadata": {},
   "source": [
    "**Exercise 2.25**: \n",
    "\n",
    "A blood test is being performed on $n$ individuals. Each person can\n",
    "be tested separately, but this is expensive. Pooling can decrease the cost. The blood\n",
    "samples of $k$ people can be pooled and analyzed together. If the test is negative, this\n",
    "one test suffices for the group of $k$ individuals. If the test is positive, then each of the $k$\n",
    "persons must be tested separately and thus $k + 1$ total tests are required for the $k$ people.\n",
    "Suppose that we create $n/k$ disjoint groups of k people (where $k$ divides $n$) and use the\n",
    "pooling method. Assume that each person has a positive result on the test independently\n",
    "with probability $p$.\n",
    "\n",
    "(a) What is the probability that the test for a pooled sample of $k$ people will be positive?\n",
    "\n",
    "(b) What is the expected number of tests necessary?\n",
    "\n",
    "(c) Describe how to find the best value of $k$.\n",
    "\n",
    "(d) Give an inequality that shows for what values of p pooling is better than just testing\n",
    "every individual"
   ]
  }
 ],
 "metadata": {
  "kernelspec": {
   "display_name": "aispace",
   "language": "python",
   "name": "python3"
  },
  "language_info": {
   "codemirror_mode": {
    "name": "ipython",
    "version": 3
   },
   "file_extension": ".py",
   "mimetype": "text/x-python",
   "name": "python",
   "nbconvert_exporter": "python",
   "pygments_lexer": "ipython3",
   "version": "3.11.4"
  }
 },
 "nbformat": 4,
 "nbformat_minor": 2
}
