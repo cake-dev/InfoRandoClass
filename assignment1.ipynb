{
 "cells": [
  {
   "cell_type": "markdown",
   "metadata": {},
   "source": [
    "**Exercise 1.1**: \n",
    "\n",
    "We flip a fair coin ten times. Find the probability of the following events.\n",
    "\n",
    "(a) The number of heads and the number of tails are equal.\n",
    "\n",
    "(b) There are more heads than tails.\n",
    "\n",
    "(c) The ith flip and the (11 − i)th flip are the same for i = 1, . . . , 5.\n",
    "\n",
    "(d) We flip at least four consecutive heads."
   ]
  },
  {
   "cell_type": "markdown",
   "metadata": {},
   "source": [
    "**SOLUTIONS 1.1**:\n",
    "\n",
    "(a) The number of heads and the number of tails are equal.\n",
    "\n",
    "Let $X$ be the number of heads. Then $X$ is a binomial random variable with $n = 10$ and $p = 0.5$. The probability that the number of heads and the number of tails are equal is\n",
    "\n",
    "$$P(X = 5) = \\binom{10}{5} (0.5)^5 (0.5)^5 = \\binom{10}{5} (0.5)^{10} = \\frac{252}{1024} = 0.2461.$$"
   ]
  },
  {
   "cell_type": "code",
   "execution_count": 1,
   "metadata": {},
   "outputs": [
    {
     "data": {
      "text/plain": [
       "0.24609375000000003"
      ]
     },
     "execution_count": 1,
     "metadata": {},
     "output_type": "execute_result"
    }
   ],
   "source": [
    "from scipy.stats import binom\n",
    "import numpy as np\n",
    "\n",
    "n = 10\n",
    "p = 0.5\n",
    "binom.pmf(5, n, p)"
   ]
  },
  {
   "cell_type": "markdown",
   "metadata": {},
   "source": [
    "(b) There are more heads than tails.\n",
    "\n",
    "The probability that there are more heads than tails is\n",
    "\n",
    "$$P(X > 5) = P(X = 6) + P(X = 7) + P(X = 8) + P(X = 9) + P(X = 10) = \\sum_{i=6}^{10} \\binom{10}{i} (0.5)^{10} = 0.3769.$$"
   ]
  },
  {
   "cell_type": "code",
   "execution_count": 2,
   "metadata": {},
   "outputs": [
    {
     "data": {
      "text/plain": [
       "0.3769531249999999"
      ]
     },
     "execution_count": 2,
     "metadata": {},
     "output_type": "execute_result"
    }
   ],
   "source": [
    "p = 0\n",
    "for i in range(6, 11):\n",
    "    p += binom.pmf(i, n, 0.5)\n",
    "p"
   ]
  },
  {
   "cell_type": "markdown",
   "metadata": {},
   "source": [
    "**Exercise 1.2**: \n",
    "\n",
    "We roll two standard six-sided dice. Find the probability of the following\n",
    "events, assuming that the outcomes of the rolls are independent.\n",
    "\n",
    "(a) The two dice show the same number.\n",
    "\n",
    "(b) The number that appears on the first die is larger than the number on the second.\n",
    "\n",
    "(c) The sum of the dice is even.\n",
    "\n",
    "(d) The product of the dice is a perfect square."
   ]
  },
  {
   "cell_type": "markdown",
   "metadata": {},
   "source": [
    "**Exercise 1.2**: \n",
    "\n",
    "We roll two standard six-sided dice. Find the probability of the following\n",
    "events, assuming that the outcomes of the rolls are independent.\n",
    "\n",
    "(a) The two dice show the same number.\n",
    "\n",
    "(b) The number that appears on the first die is larger than the number on the second.\n",
    "\n",
    "(c) The sum of the dice is even.\n",
    "\n",
    "(d) The product of the dice is a perfect square.\n",
    "\n",
    "**SOLUTIONS 1.2**:\n",
    "\n",
    "(a) The two dice show the same number.\n",
    "\n",
    "There are 6 ways in which the two dice can show the same number, (1, 1), (2, 2), (3, 3), (4, 4), (5, 5), and (6, 6). This makes up 6 out of a total of $6 \\times 6 = 36$ possible outcomes, so the probability is $6/36 = 1/6$.\n",
    "\n",
    "(b) The number that appears on the first die is larger than the number on the second.\n",
    "\n",
    "There are 15 ways in which the number on the first die is larger than the number on the second, (2, 1), (3, 1), (3, 2), (4, 1), (4, 2), (4, 3), (5, 1), (5, 2), (5, 3), (5, 4), (6, 1), (6, 2), (6, 3), (6, 4), and (6, 5). This makes up 15 out of a total of 36 possible outcomes, so the probability is $15/36 = 5/12$.\n",
    "\n",
    "(c) The sum of the dice is even.\n",
    "\n",
    "The sum of the dice is even if both dice show an even number or both dice show an odd number. There are 3 ways in which both dice show an even number, (2, 2), (4, 4), and (6, 6), and 3 ways in which both dice show an odd number, (1, 1), (3, 3), and (5, 5). This makes up 6 out of a total of 36 possible outcomes, so the probability is $6/36 = 1/6$.\n",
    "\n",
    "(d) The product of the dice is a perfect square.\n",
    "\n",
    "This is the same as the event that the two dice show the same number with (1,1) removed, so the probability is $5/36$."
   ]
  },
  {
   "cell_type": "markdown",
   "metadata": {},
   "source": [
    "**Exercise 1.3**: \n",
    "\n",
    "We shuffle a standard deck of cards, obtaining a permutation that\n",
    "is uniform over all 52! possible permutations. Find the probability of the following\n",
    "events.\n",
    "\n",
    "(a) The first two cards include at least one ace.\n",
    "\n",
    "(b) The first five cards include at least one ace.\n",
    "\n",
    "(c) The first two cards are a pair of the same rank.\n",
    "\n",
    "(d) The first five cards are all diamonds.\n",
    "\n",
    "(e) The first five cards form a full house (three of one rank and two of another rank).\n",
    "\n",
    "**SOLUTIONS 1.3**:\n",
    "\n",
    "(a) The first two cards include at least one ace.\n",
    "\n",
    "We calculate the complement event of neither of the first 2 cards being an ace.  There are 48 cards that aren't aces.  $P$(first card not an ace) = $\\frac{48}{52}$.  P(second card not an ace) = 47/51.  P(neither card an ace) = 48/52 * 47/51 = 188/221.  The probability of at least one ace is 1 - 188/221 = 33/221.\n",
    "\n",
    "(b) The first five cards include at least one ace.\n",
    "\n",
    "Same method as before, complement event of all five cards note being aces"
   ]
  },
  {
   "cell_type": "markdown",
   "metadata": {},
   "source": [
    "**Exercise 1.11**: \n",
    "\n",
    "I am trying to send you a single bit, either a 0 or a 1. When I transmit\n",
    "the bit, it goes through a series of n relays before it arrives to you. Each relay flips the\n",
    "bit independently with probability p.\n",
    "\n",
    "(a) Argue that the probability you receive the correct bit is:\n",
    "\n",
    "$$ \\sum_{k=0}^{[n/2]} \\binom{n}{2k} p^{2k} (1-p)^{n-2k} $$"
   ]
  },
  {
   "cell_type": "markdown",
   "metadata": {},
   "source": [
    "(b) We consider an alternative way to calculate this probability. Let us say the relay\n",
    "has $bias$ $q$ if the probability it flips the bit is $(1 − q)/2$. The bias $q$ is therefore a\n",
    "real number in the range [−1, 1]. Prove that sending a bit through two relays with\n",
    "bias $q_1$ and $q_2$ is equivalent to sending a bit through a single relay with bias $q_1q_2$ ."
   ]
  },
  {
   "cell_type": "markdown",
   "metadata": {},
   "source": [
    "(c) Prove that the probability you receive the correct bit when it passes through n relays\n",
    "as described before (a) is\n",
    "\n",
    "$$ \\frac{1 + (1-2p)^n}{2} $$"
   ]
  },
  {
   "cell_type": "markdown",
   "metadata": {},
   "source": [
    "**Exercise 1.14**: I am playing in a racquetball tournament, and I am up against a player\n",
    "I have watched but never played before. I consider three possibilities for my prior\n",
    "model: we are equally talented, and each of us is equally likely to win each game;\n",
    "I am slightly better, and therefore I win each game independently with probability 0.6;\n",
    "or he is slightly better, and thus he wins each game independently with probability 0.6.\n",
    "Before we play, I think that each of these three possibilities is equally likely.\n",
    "\n",
    "In our match we play until one player wins three games. I win the second game, but\n",
    "he wins the first, third, and fourth. After this match, in my posterior model, with what\n",
    "probability should I believe that my opponent is slightly better than I am?"
   ]
  },
  {
   "cell_type": "markdown",
   "metadata": {},
   "source": [
    "**Exercise 1.19**:\n",
    "\n",
    "Give examples of events where $ Pr(A | B) < Pr(A), Pr(A | B) = Pr(A) $,\n",
    "and $ Pr(A | B) > Pr(A) $."
   ]
  },
  {
   "cell_type": "markdown",
   "metadata": {},
   "source": [
    "**Exercise 2.2**: A monkey types on a 26-letter keyboard that has lowercase letters only.\n",
    "Each letter is chosen independently and uniformly at random from the alphabet. If the\n",
    "monkey types 1,000,000 letters, what is the expected number of times the sequence\n",
    "“proof” appears?"
   ]
  },
  {
   "cell_type": "markdown",
   "metadata": {},
   "source": [
    "**Exercise 2.8**: \n",
    "\n",
    "(a) Alice and Bob decide to have children until either they have their first\n",
    "girl or they have $k ≥ 1$ children. Assume that each child is a boy or girl independently\n",
    "with probability 1/2 and that there are no multiple births. What is the expected number\n",
    "of female children that they have? What is the expected number of male children that\n",
    "they have?\n",
    "\n",
    "(b) Suppose Alice and Bob simply decide to keep having children until they have\n",
    "their first girl. Assuming that this is possible, what is the expected number of boys that\n",
    "they have?"
   ]
  },
  {
   "cell_type": "markdown",
   "metadata": {},
   "source": [
    "**Exercise 2.22**:\n",
    "\n",
    "Let $a_1, a_2, . . . , a_n$ be a list of n distinct numbers. We say that $a_i$ and\n",
    "$a_j$ are inverted if $i < j$ but $a_i > a_j$. The Bubblesort sorting algorithm swaps pairwise\n",
    "adjacent inverted numbers in the list until there are no more inversions, so the list is\n",
    "in sorted order. Suppose that the input to Bubblesort is a random permutation, equally\n",
    "likely to be any of the $n!$ permutations of n distinct numbers. Determine the expected\n",
    "number of inversions that need to be corrected by Bubblesort."
   ]
  },
  {
   "cell_type": "markdown",
   "metadata": {},
   "source": [
    "**Exercise 2.25**: \n",
    "\n",
    "A blood test is being performed on $n$ individuals. Each person can\n",
    "be tested separately, but this is expensive. Pooling can decrease the cost. The blood\n",
    "samples of $k$ people can be pooled and analyzed together. If the test is negative, this\n",
    "one test suffices for the group of $k$ individuals. If the test is positive, then each of the $k$\n",
    "persons must be tested separately and thus $k + 1$ total tests are required for the $k$ people.\n",
    "Suppose that we create $n/k$ disjoint groups of k people (where $k$ divides $n$) and use the\n",
    "pooling method. Assume that each person has a positive result on the test independently\n",
    "with probability $p$.\n",
    "\n",
    "(a) What is the probability that the test for a pooled sample of $k$ people will be positive?\n",
    "\n",
    "(b) What is the expected number of tests necessary?\n",
    "\n",
    "(c) Describe how to find the best value of $k$.\n",
    "\n",
    "(d) Give an inequality that shows for what values of p pooling is better than just testing\n",
    "every individual"
   ]
  }
 ],
 "metadata": {
  "kernelspec": {
   "display_name": "aispace",
   "language": "python",
   "name": "python3"
  },
  "language_info": {
   "codemirror_mode": {
    "name": "ipython",
    "version": 3
   },
   "file_extension": ".py",
   "mimetype": "text/x-python",
   "name": "python",
   "nbconvert_exporter": "python",
   "pygments_lexer": "ipython3",
   "version": "3.11.4"
  }
 },
 "nbformat": 4,
 "nbformat_minor": 2
}
