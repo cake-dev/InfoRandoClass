{
 "cells": [
  {
   "cell_type": "markdown",
   "metadata": {},
   "source": [
    "Exercise 1.1: \n",
    "We flip a fair coin ten times. Find the probability of the following events.\n",
    "\n",
    "(a) The number of heads and the number of tails are equal.\n",
    "\n",
    "(b) There are more heads than tails.\n",
    "\n",
    "(c) The ith flip and the (11 − i)th flip are the same for i = 1, . . . , 5.\n",
    "\n",
    "(d) We flip at least four consecutive heads."
   ]
  },
  {
   "cell_type": "markdown",
   "metadata": {},
   "source": [
    "Exercise 1.2: We roll two standard six-sided dice. Find the probability of the following\n",
    "events, assuming that the outcomes of the rolls are independent.\n",
    "\n",
    "(a) The two dice show the same number.\n",
    "\n",
    "(b) The number that appears on the first die is larger than the number on the second.\n",
    "\n",
    "(c) The sum of the dice is even.\n",
    "\n",
    "(d) The product of the dice is a perfect square."
   ]
  },
  {
   "cell_type": "markdown",
   "metadata": {},
   "source": [
    "Exercise 1.3: We shuffle a standard deck of cards, obtaining a permutation that\n",
    "is uniform over all 52! possible permutations. Find the probability of the following\n",
    "events.\n",
    "\n",
    "(a) The first two cards include at least one ace.\n",
    "\n",
    "(b) The first five cards include at least one ace.\n",
    "\n",
    "(c) The first two cards are a pair of the same rank.\n",
    "\n",
    "(d) The first five cards are all diamonds.\n",
    "\n",
    "(e) The first five cards form a full house (three of one rank and two of another rank)."
   ]
  },
  {
   "cell_type": "markdown",
   "metadata": {},
   "source": []
  },
  {
   "cell_type": "markdown",
   "metadata": {},
   "source": [
    "Exercise 1.11: I am trying to send you a single bit, either a 0 or a 1. When I transmit\n",
    "the bit, it goes through a series of n relays before it arrives to you. Each relay flips the\n",
    "bit independently with probability p.\n",
    "\n",
    "(a) Argue that the probability you receive the correct bit is:\n",
    "\n",
    "$ \\sum_{k=0}^{[n/2]} \\binom{n}{2k} p^{2k} (1-p)^{n-2k} $"
   ]
  },
  {
   "cell_type": "markdown",
   "metadata": {},
   "source": [
    "(b) We consider an alternative way to calculate this probability. Let us say the relay\n",
    "has bias q if the probability it flips the bit is (1 − q)/2. The bias q is therefore a\n",
    "real number in the range [−1, 1]. Prove that sending a bit through two relays with\n",
    "bias q1 and q2 is equivalent to sending a bit through a single relay with bias q1 q2 ."
   ]
  }
 ],
 "metadata": {
  "language_info": {
   "name": "python"
  }
 },
 "nbformat": 4,
 "nbformat_minor": 2
}
