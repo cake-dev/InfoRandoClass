{
 "cells": [
  {
   "cell_type": "markdown",
   "id": "c821ecac-df43-476a-a27b-2f043612b125",
   "metadata": {},
   "source": [
    "# Computing Assignment 1\n",
    "\n",
    "In this assignment, we will explore the creation and evaluation of sequences of random and pseudo-random numbers\n",
    "\n",
    "## Part 1 - Exploratory analysis\n",
    "On the first day of class, we generated a sequence of 144 random bits (or 18 bytes) by flipping coins.  That sequence can be found in seq1.txt, which is contained in the same directory as this notebook.  We noticed that there existed in that data, both an imbalance of 1s and 0s, as well as several perhaps surprising long strings.  Let's evaluate both of these phenomena relative to a theoretical model of the bit-generating process. \n",
    "\n",
    "First, is the issue of the imbalance in the mean.  **Create a method that calculates the number of 0s and 1s for an arbitrary string of bits.  Reads our observed sequence from file, and compare the observed and theoretical number.  Make an argument for whether or not you find the observed number surprising.  This argument can be as sophisticated as you want to make it (if it were me I might invoke either the theoretical variance of the binomial distribution or a combinatoric argument based on Pascal's triangle for the proportion of length-144 sequences that ought to contain 60 or fewer 1s).**\n"
   ]
  },
  {
   "cell_type": "code",
   "execution_count": 1,
   "id": "b1533850-072a-4292-b343-c89e58d5489f",
   "metadata": {},
   "outputs": [
    {
     "name": "stdout",
     "output_type": "stream",
     "text": [
      "Number of zeros: 80\n",
      "Number of ones: 64\n",
      "Theoretical mean: 72.0\n",
      "Percent error ones: 11.111%\n"
     ]
    }
   ],
   "source": [
    "import numpy as np\n",
    "import matplotlib.pyplot as plt\n",
    "import pandas as pd\n",
    "\n",
    "def count_bits(filename):\n",
    "    with open(filename, 'r') as f:\n",
    "        seq = f.read()\n",
    "    n_ones = seq.count('1')\n",
    "    n_zeros = seq.count('0')\n",
    "    return n_zeros, n_ones\n",
    "\n",
    "filename = 'seq1.txt'\n",
    "n_zeros, n_ones = count_bits(filename)\n",
    "print(f'Number of zeros: {n_zeros}')\n",
    "print(f'Number of ones: {n_ones}')\n",
    "\n",
    "def theoretical_mean(n):\n",
    "    return n/2\n",
    "\n",
    "n = n_zeros + n_ones\n",
    "print(f'Theoretical mean: {theoretical_mean(n)}')\n",
    "\n",
    "def percent_error(x, y):\n",
    "    return round(abs(x-y)/x*100,3)\n",
    "\n",
    "print(f'Percent error ones: {percent_error(theoretical_mean(n), n_ones)}%')"
   ]
  },
  {
   "cell_type": "code",
   "execution_count": 2,
   "id": "f481e842",
   "metadata": {},
   "outputs": [
    {
     "name": "stdout",
     "output_type": "stream",
     "text": [
      "Theoretical std: 6.0\n"
     ]
    }
   ],
   "source": [
    "def theoretical_std(n):\n",
    "    return np.sqrt(n)/2\n",
    "\n",
    "print(f'Theoretical std: {theoretical_std(n)}')"
   ]
  },
  {
   "cell_type": "markdown",
   "id": "82c6a2a5",
   "metadata": {},
   "source": [
    "I do find the number of ones and zeros from our expiriment to be a bit fishy.  With a relatively large deviation from the theoretical result (11%), The probability of getting 64 ones in a 144 bit sequence is:\n"
   ]
  },
  {
   "cell_type": "code",
   "execution_count": 35,
   "id": "1d63d235",
   "metadata": {},
   "outputs": [
    {
     "name": "stdout",
     "output_type": "stream",
     "text": [
      "Probability of having 64 ones in a sequence of 144 bits: 0.027406399231626865\n"
     ]
    }
   ],
   "source": [
    "def prob_ones_in_seq(n, k):\n",
    "    return np.math.comb(n, k) * 0.5**n\n",
    "\n",
    "prob_ones = prob_ones_in_seq(n, n_ones)\n",
    "print(f'Probability of having {n_ones} ones in a sequence of {n} bits: {prob_ones}')"
   ]
  },
  {
   "cell_type": "markdown",
   "id": "6e9cf112",
   "metadata": {},
   "source": [
    "A probability of less than 3% is quite low."
   ]
  },
  {
   "cell_type": "markdown",
   "id": "43cf345f-8406-40c7-a4bf-9f5d17bccea3",
   "metadata": {},
   "source": [
    "Next, let's evaluate the issue of runs.  **Create a method that counts the number of runs of length $i$ in an arbitrary string of $n$ bits (note that you ought to do this for all possible run lengths in a single pass).  Apply this to our coin-generated string and compare the observed run counts against the theoretical expected value that we derived in class**\n",
    "$$\n",
    "E(T^{(i)}) = (n - i + 3) \\times \\left(\\frac{1}{2}\\right)^{i+2}.\n",
    "$$\n",
    "Plot both the theoretical and observed run counts as a function of $i$.  Comment on if and where the prediction and observation agree or disagree.  "
   ]
  },
  {
   "cell_type": "code",
   "execution_count": 33,
   "id": "f83e4a1d-d994-4b39-8638-17783252fa34",
   "metadata": {},
   "outputs": [
    {
     "data": {
      "text/plain": [
       "{1: 18, 2: 8, 4: 5, 5: 2}"
      ]
     },
     "execution_count": 33,
     "metadata": {},
     "output_type": "execute_result"
    }
   ],
   "source": [
    "def count_runs_observed(b_string):\n",
    "    run_counts = {}\n",
    "    run_length = 0\n",
    "    for bit in b_string:\n",
    "        if bit == '1':\n",
    "            run_length += 1\n",
    "        else:\n",
    "            if run_length > 0:\n",
    "                if run_length in run_counts:\n",
    "                    run_counts[run_length] += 1\n",
    "                else:\n",
    "                    run_counts[run_length] = 1\n",
    "                run_length = 0\n",
    "    return run_counts\n",
    "\n",
    "def read_file(filename):\n",
    "    with open(filename, 'r') as f:\n",
    "        seq = f.read()\n",
    "    return seq\n",
    "\n",
    "seq = read_file('seq1.txt')\n",
    "\n",
    "run_counts = count_runs_observed(seq)\n",
    "run_counts"
   ]
  },
  {
   "cell_type": "code",
   "execution_count": 51,
   "id": "6adadb02",
   "metadata": {},
   "outputs": [
    {
     "data": {
      "text/plain": [
       "{1: 18.0, 2: 8.94, 3: 4.44, 4: 2.2, 5: 1.09}"
      ]
     },
     "execution_count": 51,
     "metadata": {},
     "output_type": "execute_result"
    }
   ],
   "source": [
    "def theoretical_runs(n):\n",
    "    run_counts = {}\n",
    "    for i in range(1, 6):\n",
    "        prob = (1/2)**(i+2)\n",
    "        run_counts[i] = round(prob * (n - i + 1), 2)\n",
    "    return run_counts\n",
    "\n",
    "theoretical_run_counts = theoretical_runs(len(seq))\n",
    "theoretical_run_counts"
   ]
  },
  {
   "cell_type": "code",
   "execution_count": 57,
   "id": "b09a4b3b",
   "metadata": {},
   "outputs": [
    {
     "data": {
      "image/png": "[encoded data removed]",
      "text/plain": [
       "<Figure size 640x480 with 1 Axes>"
      ]
     },
     "metadata": {},
     "output_type": "display_data"
    }
   ],
   "source": [
    "# plot actual runs vs theoretical runs as a function of i (run length)\n",
    "plt.scatter(run_counts.keys(), run_counts.values(), label='Observed', alpha=0.5, color='red')\n",
    "plt.scatter(theoretical_run_counts.keys(), theoretical_run_counts.values(), label='Theoretical', alpha=0.5, color='blue')\n",
    "plt.xlabel('Run length')\n",
    "plt.ylabel('Count')\n",
    "plt.legend()\n",
    "plt.show()"
   ]
  },
  {
   "cell_type": "markdown",
   "id": "66d7b105",
   "metadata": {},
   "source": [
    "For single digit runs, our theoretical model agrees with the observed data.  After that, however, we diverge.  It is close for 2 digit runs, but not for 3 and beyond (there are actually no 3 digit runs in our observed data).  This is likely due to the fact that our observed data is not truly random, but rather generated by a human flipping a coin."
   ]
  },
  {
   "cell_type": "markdown",
   "id": "65259ff1-8b6e-423f-b759-b3e55b314d93",
   "metadata": {},
   "source": [
    "## Part 2 - Randomized trials\n",
    "Ultimately our coin flip sequence is a single outcome from a rather large sample space (consider that it is unlikely that any human has ever looked at this sequence before).  To understand the empirical properties of the system, it is often necessary to look at many independent trials.  We will return to the issue of (pseudo-)random number generation shortly, but for now, in order to facilitate this multiple-trials view of understanding outcomes, I am providing you with the following function, which will provide you with a truly random string of bits of whatever length you wish."
   ]
  },
  {
   "cell_type": "code",
   "execution_count": 53,
   "id": "276b67f1-9667-41e5-a55b-1cd782406544",
   "metadata": {},
   "outputs": [],
   "source": [
    "import urllib.request\n",
    "\n",
    "def get_random_bits(n_bytes=1000):\n",
    "    url = f'https://www.random.org/cgi-bin/randbyte?nbytes={n_bytes}&format=b'\n",
    "    data = urllib.request.urlopen(url)\n",
    "    sequence = ''.join([d.decode(\"ascii\").strip().replace(' ','') for d in data.readlines()])\n",
    "    return sequence\n",
    "\n",
    "sequence = get_random_bits()"
   ]
  },
  {
   "cell_type": "markdown",
   "id": "cc1637dd-3bc5-4bd1-8819-ede13b8ceea2",
   "metadata": {},
   "source": [
    "First, **address the question of our observed bit imbalance by producing a histogram of the proportion of 1s in a large number of length-144 sequences, with those sequences produced via the method provided previously (note that because we're querying a website, it's faster to query longer sequences and to break them in shorter chunks).  Comment on whether our coin-flip sequence is atypical.**"
   ]
  },
  {
   "cell_type": "code",
   "execution_count": 121,
   "id": "b4e77cb8-9dc3-4ce2-aee4-c6cc10472558",
   "metadata": {},
   "outputs": [
    {
     "data": {
      "image/png": "[encoded data removed]",
      "text/plain": [
       "<Figure size 640x480 with 1 Axes>"
      ]
     },
     "metadata": {},
     "output_type": "display_data"
    }
   ],
   "source": [
    "sequence = get_random_bits(n_bytes=14400)\n",
    "\n",
    "def chunk_sequence(sequence, chunk_size=144):\n",
    "    return [sequence[i:i+chunk_size] for i in range(0, len(sequence), chunk_size)]\n",
    "\n",
    "chunks = chunk_sequence(sequence)\n",
    "\n",
    "def count_ones(chunk):\n",
    "    return chunk.count('1')/len(chunk)\n",
    "\n",
    "ones_proportion = [count_ones(chunk) for chunk in chunks]\n",
    "\n",
    "plt.hist(ones_proportion, bins=30)\n",
    "plt.xlabel('Proportion of ones')\n",
    "plt.ylabel('Count')\n",
    "plt.show()"
   ]
  },
  {
   "cell_type": "markdown",
   "id": "44ef7470-26a2-4830-bac0-674723c49ccc",
   "metadata": {},
   "source": [
    "Second, **Perform a similar analysis for the issue of runs.  I leave how you wish to visualize this to you, but one way might be to plot every random trial's run count as a function of $i$, with the transparency channel modified to be able to see density.**  Experiment with how the picture changes for longer sequences.  "
   ]
  },
  {
   "cell_type": "code",
   "execution_count": null,
   "id": "61699e37-af39-4b54-ad9f-1317313cb252",
   "metadata": {},
   "outputs": [],
   "source": [
    "# TODO"
   ]
  },
  {
   "cell_type": "markdown",
   "id": "28107cf5-742f-4cd9-8e0d-e198dbbd0bf0",
   "metadata": {},
   "source": [
    "## Part 3 - PRNG\n",
    "Querying www.random.org whenever we want random numbers is slow and unwieldy.  Instead we it would be helpful to be able to generate random numbers on our computers directly.  However, this is impossible under a deterministic model of computing (which every Turing machine is).  Instead, many pseudo-random number generators have been proposed.  Here, I would like you to implement two of them (and we will take as given a third).  \n",
    "\n",
    "First, **implement Von Neumann's [middle square method](https://en.wikipedia.org/wiki/Middle-square_method).  It only depends on an initial seed.** Explore the generator's behavior for a few different choices of seed (both length and value).  In particular, try to list (and provide some examples of) ways in which this generator can fail.  "
   ]
  },
  {
   "cell_type": "code",
   "execution_count": 130,
   "id": "70d69239",
   "metadata": {},
   "outputs": [
    {
     "name": "stdout",
     "output_type": "stream",
     "text": [
      "We began with 1010 and have repeated ourselves after 15 steps.\n"
     ]
    }
   ],
   "source": [
    "# https://en.wikipedia.org/wiki/Middle-square_method\n",
    "def middle_square_method(seed_number):\n",
    "    number = seed_number\n",
    "    already_seen = set()\n",
    "    counter = 0\n",
    "\n",
    "    while number not in already_seen:\n",
    "        counter += 1\n",
    "        already_seen.add(number)\n",
    "        number = int(str(number * number).zfill(8)[2:6])  # zfill adds padding of zeroes\n",
    "        # print(f\"#{counter}: {number}\")\n",
    "    return counter\n",
    "\n",
    "seed_number = 1010\n",
    "counter = middle_square_method(seed_number)\n",
    "print(f\"We began with {seed_number} and have repeated ourselves after {counter} steps.\")"
   ]
  },
  {
   "cell_type": "code",
   "execution_count": 119,
   "id": "04aa2f36",
   "metadata": {},
   "outputs": [
    {
     "data": {
      "image/png": "[encoded data removed]",
      "text/plain": [
       "<Figure size 640x480 with 1 Axes>"
      ]
     },
     "metadata": {},
     "output_type": "display_data"
    }
   ],
   "source": [
    "# plot the steps until repeat using the middle square method for four digit seed value 0000 to 9999\n",
    "seed_values = range(10000)\n",
    "repeats = [middle_square_method(seed) for seed in seed_values]\n",
    "# log x\n",
    "plt.plot(seed_values, repeats)\n",
    "plt.xlabel('Seed value')\n",
    "plt.ylabel('Steps until repeat')\n",
    "plt.xscale('log')\n",
    "plt.show()"
   ]
  },
  {
   "cell_type": "markdown",
   "id": "21b77efc-d0a3-4b34-88f8-f6713f9327b6",
   "metadata": {},
   "source": [
    "Second, **implement a general purpose [linear congruential generator](https://en.wikipedia.org/wiki/Linear_congruential_generator)**.  This method should accept a seed, as well as a modulus, multiplier, and increment.  Experiment with a few different settings for these parameters.  Demonstrate experimentally that when the modulus $m$ is a power of 2, and that the multiplier and increment are non-zero, that this generator repeats itself after $m$ numbers are generated (probably good to use a small value of $m$ for this)."
   ]
  },
  {
   "cell_type": "code",
   "execution_count": null,
   "id": "8d585420-dbef-49c3-b27b-eb82e4d0a105",
   "metadata": {},
   "outputs": [],
   "source": []
  },
  {
   "cell_type": "markdown",
   "id": "d4882455-303e-4beb-a567-3582ae705ca9",
   "metadata": {},
   "source": [
    "An interesting pathological case arises when using a modulus of $m=2^31$, a multiplier of $a=65539$ and an increment of $c=0$.  Generate a large sequence using this method, normalize them to the range [0,1] and produce a 3D plot in which three consecutive numbers are interpreted as a point in 3D space.  What kind of structure emerges?  Comment on whether this is bad or not.  Repeat this experiment with numpy's builtin random number generator and describe whether you see the same issue.  "
   ]
  },
  {
   "cell_type": "code",
   "execution_count": null,
   "id": "3ef3f9de-9f5b-438c-9835-afe0055ef865",
   "metadata": {},
   "outputs": [],
   "source": []
  }
 ],
 "metadata": {
  "kernelspec": {
   "display_name": "aispace",
   "language": "python",
   "name": "python3"
  },
  "language_info": {
   "codemirror_mode": {
    "name": "ipython",
    "version": 3
   },
   "file_extension": ".py",
   "mimetype": "text/x-python",
   "name": "python",
   "nbconvert_exporter": "python",
   "pygments_lexer": "ipython3",
   "version": "3.9.20"
  }
 },
 "nbformat": 4,
 "nbformat_minor": 5
}
